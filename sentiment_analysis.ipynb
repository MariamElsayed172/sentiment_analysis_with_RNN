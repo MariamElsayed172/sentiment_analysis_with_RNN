{
 "cells": [
  {
   "cell_type": "code",
   "execution_count": null,
   "metadata": {},
   "outputs": [],
   "source": [
    "import numpy as np\n",
    "import pandas as pd\n",
    "\n",
    "from tensorflow.keras.preprocessing.text import Tokenizer\n",
    "from tensorflow.keras.preprocessing.sequence import pad_sequences\n",
    "from tensorflow.keras.models import Sequential\n",
    "from tensorflow.keras.layers import Embedding, LSTM, Dense, Dropout\n",
    "from sklearn.model_selection import train_test_split\n",
    "from sklearn.preprocessing import LabelEncoder"
   ]
  },
  {
   "cell_type": "code",
   "execution_count": null,
   "metadata": {},
   "outputs": [],
   "source": [
    "import kagglehub\n",
    "\n",
    "# Download latest version\n",
    "path = kagglehub.dataset_download(\"jp797498e/twitter-entity-sentiment-analysis\")\n",
    "\n",
    "data = pd.read_csv(f\"{path}/twitter_training.csv\")"
   ]
  },
  {
   "cell_type": "code",
   "execution_count": null,
   "metadata": {
    "execution": {
     "iopub.execute_input": "2025-03-22T13:41:02.312256Z",
     "iopub.status.busy": "2025-03-22T13:41:02.311648Z",
     "iopub.status.idle": "2025-03-22T13:41:06.058151Z",
     "shell.execute_reply": "2025-03-22T13:41:06.057157Z",
     "shell.execute_reply.started": "2025-03-22T13:41:02.312228Z"
    },
    "trusted": true
   },
   "outputs": [],
   "source": [
    "data.columns = ['Tweet ID', 'entity', 'sentiment', 'Tweet content']\n",
    "\n",
    "data['Tweet content'] = data['Tweet content'].str.lower().str.replace('[^\\w\\s]', '')\n",
    "\n",
    "data['Tweet content'] = data['Tweet content'].astype(str)\n",
    "\n",
    "label_encoder = LabelEncoder()\n",
    "data['sentiment'] = label_encoder.fit_transform(data['sentiment'])\n",
    "\n",
    "tokenizer = Tokenizer(num_words=10000)\n",
    "tokenizer.fit_on_texts(data['Tweet content'])\n",
    "sequences = tokenizer.texts_to_sequences(data['Tweet content'])\n",
    "\n",
    "X = pad_sequences(sequences, maxlen=100)\n",
    "y = data['sentiment'].values"
   ]
  },
  {
   "cell_type": "code",
   "execution_count": 3,
   "metadata": {
    "execution": {
     "iopub.execute_input": "2025-03-22T13:41:06.060001Z",
     "iopub.status.busy": "2025-03-22T13:41:06.059687Z",
     "iopub.status.idle": "2025-03-22T13:41:06.087217Z",
     "shell.execute_reply": "2025-03-22T13:41:06.086333Z",
     "shell.execute_reply.started": "2025-03-22T13:41:06.059977Z"
    },
    "trusted": true
   },
   "outputs": [],
   "source": [
    "X_train, X_test, y_train, y_test = train_test_split(X, y, test_size=0.2, random_state=42)"
   ]
  },
  {
   "cell_type": "code",
   "execution_count": 4,
   "metadata": {
    "execution": {
     "iopub.execute_input": "2025-03-22T13:41:06.088773Z",
     "iopub.status.busy": "2025-03-22T13:41:06.088445Z",
     "iopub.status.idle": "2025-03-22T13:41:06.094443Z",
     "shell.execute_reply": "2025-03-22T13:41:06.093588Z",
     "shell.execute_reply.started": "2025-03-22T13:41:06.088738Z"
    },
    "trusted": true
   },
   "outputs": [
    {
     "name": "stdout",
     "output_type": "stream",
     "text": [
      "(59744, 100)\n",
      "(14937, 100)\n"
     ]
    }
   ],
   "source": [
    "print(X_train.shape)\n",
    "print(X_test.shape)"
   ]
  },
  {
   "cell_type": "code",
   "execution_count": 5,
   "metadata": {
    "execution": {
     "iopub.execute_input": "2025-03-22T13:41:06.095873Z",
     "iopub.status.busy": "2025-03-22T13:41:06.095515Z",
     "iopub.status.idle": "2025-03-22T13:41:06.114548Z",
     "shell.execute_reply": "2025-03-22T13:41:06.113470Z",
     "shell.execute_reply.started": "2025-03-22T13:41:06.095848Z"
    },
    "trusted": true
   },
   "outputs": [
    {
     "name": "stdout",
     "output_type": "stream",
     "text": [
      "(59744,)\n",
      "(14937,)\n"
     ]
    }
   ],
   "source": [
    "print(y_train.shape)\n",
    "print(y_test.shape)"
   ]
  },
  {
   "cell_type": "code",
   "execution_count": 6,
   "metadata": {
    "execution": {
     "iopub.execute_input": "2025-03-22T13:41:06.115789Z",
     "iopub.status.busy": "2025-03-22T13:41:06.115481Z",
     "iopub.status.idle": "2025-03-22T13:41:06.137856Z",
     "shell.execute_reply": "2025-03-22T13:41:06.136821Z",
     "shell.execute_reply.started": "2025-03-22T13:41:06.115760Z"
    },
    "trusted": true
   },
   "outputs": [
    {
     "name": "stdout",
     "output_type": "stream",
     "text": [
      "[0 1 2 3]\n",
      "[0 1 2 3]\n"
     ]
    }
   ],
   "source": [
    "print(np.unique(y_train))\n",
    "print(np.unique(y_test))"
   ]
  },
  {
   "cell_type": "code",
   "execution_count": 7,
   "metadata": {
    "execution": {
     "iopub.execute_input": "2025-03-22T13:41:06.139485Z",
     "iopub.status.busy": "2025-03-22T13:41:06.139034Z",
     "iopub.status.idle": "2025-03-22T13:41:06.164199Z",
     "shell.execute_reply": "2025-03-22T13:41:06.163096Z",
     "shell.execute_reply.started": "2025-03-22T13:41:06.139447Z"
    },
    "trusted": true
   },
   "outputs": [
    {
     "name": "stdout",
     "output_type": "stream",
     "text": [
      "False\n",
      "False\n",
      "False\n",
      "False\n"
     ]
    }
   ],
   "source": [
    "print(np.any(np.isnan(X_train)))\n",
    "print(np.any(np.isinf(X_train)))\n",
    "print(np.any(np.isnan(y_train)))\n",
    "print(np.any(np.isinf(y_train)))"
   ]
  },
  {
   "cell_type": "code",
   "execution_count": 8,
   "metadata": {
    "execution": {
     "iopub.execute_input": "2025-03-22T13:41:06.167401Z",
     "iopub.status.busy": "2025-03-22T13:41:06.167098Z",
     "iopub.status.idle": "2025-03-22T13:41:06.229322Z",
     "shell.execute_reply": "2025-03-22T13:41:06.228452Z",
     "shell.execute_reply.started": "2025-03-22T13:41:06.167377Z"
    },
    "trusted": true
   },
   "outputs": [],
   "source": [
    "model = Sequential()\n",
    "model.add(Embedding(input_dim=10000, output_dim=128))\n",
    "model.add(LSTM(64))\n",
    "model.add(Dense(4, activation='softmax'))\n",
    "\n",
    "model.compile(loss='sparse_categorical_crossentropy', optimizer='adam', metrics=['accuracy'])"
   ]
  },
  {
   "cell_type": "code",
   "execution_count": 9,
   "metadata": {
    "execution": {
     "iopub.execute_input": "2025-03-22T13:41:06.230543Z",
     "iopub.status.busy": "2025-03-22T13:41:06.230299Z",
     "iopub.status.idle": "2025-03-22T13:52:38.818334Z",
     "shell.execute_reply": "2025-03-22T13:52:38.817316Z",
     "shell.execute_reply.started": "2025-03-22T13:41:06.230522Z"
    },
    "trusted": true
   },
   "outputs": [
    {
     "name": "stdout",
     "output_type": "stream",
     "text": [
      "Epoch 1/5\n",
      "\u001b[1m3734/3734\u001b[0m \u001b[32m━━━━━━━━━━━━━━━━━━━━\u001b[0m\u001b[37m\u001b[0m \u001b[1m140s\u001b[0m 37ms/step - accuracy: 0.5651 - loss: 1.0309 - val_accuracy: 0.7548 - val_loss: 0.6376\n",
      "Epoch 2/5\n",
      "\u001b[1m3734/3734\u001b[0m \u001b[32m━━━━━━━━━━━━━━━━━━━━\u001b[0m\u001b[37m\u001b[0m \u001b[1m138s\u001b[0m 37ms/step - accuracy: 0.8211 - loss: 0.4743 - val_accuracy: 0.8165 - val_loss: 0.4902\n",
      "Epoch 3/5\n",
      "\u001b[1m3734/3734\u001b[0m \u001b[32m━━━━━━━━━━━━━━━━━━━━\u001b[0m\u001b[37m\u001b[0m \u001b[1m138s\u001b[0m 37ms/step - accuracy: 0.8842 - loss: 0.3033 - val_accuracy: 0.8354 - val_loss: 0.4565\n",
      "Epoch 4/5\n",
      "\u001b[1m3734/3734\u001b[0m \u001b[32m━━━━━━━━━━━━━━━━━━━━\u001b[0m\u001b[37m\u001b[0m \u001b[1m138s\u001b[0m 37ms/step - accuracy: 0.9157 - loss: 0.2184 - val_accuracy: 0.8515 - val_loss: 0.4411\n",
      "Epoch 5/5\n",
      "\u001b[1m3734/3734\u001b[0m \u001b[32m━━━━━━━━━━━━━━━━━━━━\u001b[0m\u001b[37m\u001b[0m \u001b[1m138s\u001b[0m 37ms/step - accuracy: 0.9343 - loss: 0.1657 - val_accuracy: 0.8567 - val_loss: 0.4472\n"
     ]
    },
    {
     "data": {
      "text/plain": [
       "<keras.src.callbacks.history.History at 0x7d0a4de49630>"
      ]
     },
     "execution_count": 9,
     "metadata": {},
     "output_type": "execute_result"
    }
   ],
   "source": [
    "model.fit(X_train, y_train, batch_size=16, epochs=5, validation_data=(X_test, y_test))"
   ]
  },
  {
   "cell_type": "code",
   "execution_count": 10,
   "metadata": {
    "execution": {
     "iopub.execute_input": "2025-03-22T13:52:38.819654Z",
     "iopub.status.busy": "2025-03-22T13:52:38.819324Z",
     "iopub.status.idle": "2025-03-22T13:52:47.067732Z",
     "shell.execute_reply": "2025-03-22T13:52:47.066607Z",
     "shell.execute_reply.started": "2025-03-22T13:52:38.819612Z"
    },
    "trusted": true
   },
   "outputs": [
    {
     "name": "stdout",
     "output_type": "stream",
     "text": [
      "\u001b[1m467/467\u001b[0m \u001b[32m━━━━━━━━━━━━━━━━━━━━\u001b[0m\u001b[37m\u001b[0m \u001b[1m8s\u001b[0m 17ms/step - accuracy: 0.8478 - loss: 0.4721\n",
      "Test Accuracy: 0.8566646575927734\n"
     ]
    }
   ],
   "source": [
    "loss, accuracy = model.evaluate(X_test, y_test)\n",
    "print(f'Test Accuracy: {accuracy}')"
   ]
  },
  {
   "cell_type": "code",
   "execution_count": 11,
   "metadata": {
    "execution": {
     "iopub.execute_input": "2025-03-22T13:52:47.069287Z",
     "iopub.status.busy": "2025-03-22T13:52:47.068899Z",
     "iopub.status.idle": "2025-03-22T13:52:55.948118Z",
     "shell.execute_reply": "2025-03-22T13:52:55.947295Z",
     "shell.execute_reply.started": "2025-03-22T13:52:47.069247Z"
    },
    "trusted": true
   },
   "outputs": [
    {
     "name": "stdout",
     "output_type": "stream",
     "text": [
      "\u001b[1m467/467\u001b[0m \u001b[32m━━━━━━━━━━━━━━━━━━━━\u001b[0m\u001b[37m\u001b[0m \u001b[1m9s\u001b[0m 18ms/step\n"
     ]
    }
   ],
   "source": [
    "predictions = model.predict(X_test)\n",
    "predicted_classes = np.argmax(predictions, axis=1)"
   ]
  }
 ],
 "metadata": {
  "kaggle": {
   "accelerator": "none",
   "dataSources": [
    {
     "datasetId": 1520310,
     "sourceId": 2510329,
     "sourceType": "datasetVersion"
    }
   ],
   "dockerImageVersionId": 30918,
   "isGpuEnabled": false,
   "isInternetEnabled": true,
   "language": "python",
   "sourceType": "notebook"
  },
  "kernelspec": {
   "display_name": "Python 3",
   "language": "python",
   "name": "python3"
  },
  "language_info": {
   "codemirror_mode": {
    "name": "ipython",
    "version": 3
   },
   "file_extension": ".py",
   "mimetype": "text/x-python",
   "name": "python",
   "nbconvert_exporter": "python",
   "pygments_lexer": "ipython3",
   "version": "3.11.2"
  }
 },
 "nbformat": 4,
 "nbformat_minor": 4
}
